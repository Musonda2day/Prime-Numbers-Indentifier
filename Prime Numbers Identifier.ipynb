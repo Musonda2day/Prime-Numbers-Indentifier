{
 "cells": [
  {
   "cell_type": "markdown",
   "id": "bd655cbe",
   "metadata": {},
   "source": [
    "## Prime Numbers Indentifier"
   ]
  },
  {
   "cell_type": "markdown",
   "id": "8eeb8329",
   "metadata": {},
   "source": [
    "### 1. Introduction\n",
    "\n",
    "A prime number is a natural number that is greater than 1 which has only two factors; 1 and itself. For example, 3 is a prmime number as the only factors it has are 1 and 3 (itself). On the other hand, 9 is not a prime number because besides 1 and 9 as factors, it has 3 as a factor as well.\n",
    "\n",
    "Prime numbers has a number of applications in mathematics and computing including cryptography. \n",
    "\n",
    "We develop a program in python that is able to identify the prime numbers within a given range of numbers. The program takes in a range of numbers as input and returns a list of prime numbers within that range as well as the count of the total prime numbers within the range.\n",
    "\n",
    "---"
   ]
  },
  {
   "cell_type": "markdown",
   "id": "58df6d98",
   "metadata": {},
   "source": [
    "### 2. Import Relevant Packages"
   ]
  },
  {
   "cell_type": "code",
   "execution_count": 1,
   "id": "794fc428",
   "metadata": {},
   "outputs": [],
   "source": [
    "import numpy as np"
   ]
  },
  {
   "cell_type": "markdown",
   "id": "562daf3d",
   "metadata": {},
   "source": [
    "### 3. Define Is Prime Function\n",
    "\n",
    "Define a function that takes in a number and determines whether it is a prime number of not. \n",
    "\n",
    "The function starts by first listing all the numbers from 1 up to the number in a numpy array. These are all the possible numbers that could be factors of a given number. The mode of the number against each of the possible factors is then checked and the results stored in a numpy array called mod. Any factor from the possible factors array will produce a mode of zero. As such the mod array is lopped through to count the zeros in the array. Since we need only to have at least three factors to determine that a number is not prime, the looping through the mod array is broken if we get at least three zeros in the mod array.\n",
    "\n",
    "Next, we check whether we have a count of at least three to determine if a number is prime or not. Since 1 is not prime, we  check the count for when the number is greater than one and determine whether it is prime or not. If the number is prime we return True and if not we return False."
   ]
  },
  {
   "cell_type": "code",
   "execution_count": 7,
   "id": "9d870579",
   "metadata": {},
   "outputs": [],
   "source": [
    "#define is prime\n",
    "\n",
    "def is_prime(num):\n",
    "    \"\"\"Function to check whether a number is prime\"\"\"\n",
    "    #get an array of the possible factors\n",
    "    possible_factors = np.arange(1, num+1)\n",
    "    \n",
    "    #mod of num with each of the possible factors\n",
    "    mod = num % possible_factors\n",
    "    \n",
    "    #loop through the mod array to check for factors\n",
    "    #if we have more than 2 zeros then num is prime\n",
    "    count=0\n",
    "    for i in mod:\n",
    "        if i==0:\n",
    "            count+=1\n",
    "        elif count>2: #break count if we get 3 or more factors\n",
    "            break\n",
    "            \n",
    "    #check whether count is more than 2\n",
    "    if num > 1:\n",
    "        if count<3:\n",
    "            is_prime=True\n",
    "        else:\n",
    "            is_prime = False\n",
    "    else:\n",
    "        is_prime = False\n",
    "        \n",
    "    return is_prime"
   ]
  },
  {
   "cell_type": "markdown",
   "id": "943e13e3",
   "metadata": {},
   "source": [
    "### 4. Check for Primes in a Range of Numbers"
   ]
  },
  {
   "cell_type": "code",
   "execution_count": 250,
   "id": "9d1ae680",
   "metadata": {},
   "outputs": [
    {
     "name": "stdout",
     "output_type": "stream",
     "text": [
      "Enter the Starting Number in Range1\n",
      "Enter the Ending Number in Range1000\n"
     ]
    }
   ],
   "source": [
    "#input the start and end numbers for the range\n",
    "\n",
    "start_num = int(input(\"Enter the Starting Number in Range: \"))\n",
    "end_num = int(input(\"Enter the Ending Number in Range: \"))"
   ]
  },
  {
   "cell_type": "code",
   "execution_count": 251,
   "id": "bea885d5",
   "metadata": {},
   "outputs": [],
   "source": [
    "#define array for number range\n",
    "num_range = np.arange(start_num, end_num+1)"
   ]
  },
  {
   "cell_type": "code",
   "execution_count": 258,
   "id": "347b58dd",
   "metadata": {},
   "outputs": [],
   "source": [
    "#check whether each of the numbers in range is prime\n",
    "\n",
    "prime_list = [] #initialize list for primes\n",
    "for i in num_range:\n",
    "    if is_prime(i) == True:\n",
    "        prime_list.append(i)\n",
    "\n",
    "number_of_primes = len(prime_list)\n",
    "primes = np.array(prime_list)"
   ]
  },
  {
   "cell_type": "code",
   "execution_count": 263,
   "id": "cd467c20",
   "metadata": {},
   "outputs": [
    {
     "name": "stdout",
     "output_type": "stream",
     "text": [
      "There are 168 prime numbers in the range 1 to 1000\n",
      "\n",
      "\n",
      "[  2   3   5   7  11  13  17  19  23  29  31  37  41  43  47  53  59  61\n",
      "  67  71  73  79  83  89  97 101 103 107 109 113 127 131 137 139 149 151\n",
      " 157 163 167 173 179 181 191 193 197 199 211 223 227 229 233 239 241 251\n",
      " 257 263 269 271 277 281 283 293 307 311 313 317 331 337 347 349 353 359\n",
      " 367 373 379 383 389 397 401 409 419 421 431 433 439 443 449 457 461 463\n",
      " 467 479 487 491 499 503 509 521 523 541 547 557 563 569 571 577 587 593\n",
      " 599 601 607 613 617 619 631 641 643 647 653 659 661 673 677 683 691 701\n",
      " 709 719 727 733 739 743 751 757 761 769 773 787 797 809 811 821 823 827\n",
      " 829 839 853 857 859 863 877 881 883 887 907 911 919 929 937 941 947 953\n",
      " 967 971 977 983 991 997]\n"
     ]
    }
   ],
   "source": [
    "print(\"There are \" + str(number_of_primes) + \" prime numbers in the range \" + str(start_num) + \" to \" + str(end_num))\n",
    "print(\"\\n\")\n",
    "print(primes)"
   ]
  }
 ],
 "metadata": {
  "kernelspec": {
   "display_name": "Python 3 (ipykernel)",
   "language": "python",
   "name": "python3"
  },
  "language_info": {
   "codemirror_mode": {
    "name": "ipython",
    "version": 3
   },
   "file_extension": ".py",
   "mimetype": "text/x-python",
   "name": "python",
   "nbconvert_exporter": "python",
   "pygments_lexer": "ipython3",
   "version": "3.9.7"
  }
 },
 "nbformat": 4,
 "nbformat_minor": 5
}
